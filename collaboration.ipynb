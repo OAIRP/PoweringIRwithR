{
  "cells": [
    {
      "cell_type": "markdown",
      "metadata": {},
      "source": [
        "# Collaborating on code {#sec-collaboration}\n",
        "\n",
        "Through @sec-reports you've developed a report using R code that incorporates your data analysis.  Though some IR projects are solo efforts, in many cases we want to collaborate with other institutional researchers, either now or in the future.^[In our experience, most solo IR practitioners wish to be part of a team one day!]\n",
        "\n",
        "In this section we'll discuss how you can set up your project in a way that makes it easy to collaborate, borrowing from \n",
        "\n",
        "## Setting up Git\n",
        "\n",
        "\n",
        "```{.bash filename=\"Terminal\"}\n",
        "git config --global user.email \"you@example.com\"\n",
        "git config --global user.name \"Your Name\"\n",
        "```\n",
        "\n",
        "## Setting up GitHub\n",
        "\n",
        "\n",
        "\n",
        "## An overview of GitHub\n",
        "\n",
        "\n",
        "\n",
        "## Exercises {.unnumbered}\n",
        "\n",
        "### Exercise 1\n",
        "\n",
        "Log into GitHub and navigate to the PoweringIRwithR repository.  Star it!\n",
        "\n",
        "\n",
        "\n",
        "```{markdown}\n",
        "#| code-fold: true\n",
        "<https://github.com/oairp/PoweringIRwithR>\n",
        "```\n",
        "\n",
        "\n",
        "\n",
        "### Exercise 2\n",
        "\n",
        "\n",
        "\n",
        "\n",
        "## Extra: About GitHub Pages {.unnumbered}"
      ],
      "id": "4aa308fc"
    }
  ],
  "metadata": {
    "kernelspec": {
      "display_name": "Python 3",
      "language": "python",
      "name": "python3"
    }
  },
  "nbformat": 4,
  "nbformat_minor": 5
}